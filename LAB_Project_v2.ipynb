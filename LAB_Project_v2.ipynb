{
  "nbformat": 4,
  "nbformat_minor": 0,
  "metadata": {
    "colab": {
      "name": "LAB_Project_v1.ipynb",
      "provenance": [],
      "collapsed_sections": [],
      "include_colab_link": true
    },
    "kernelspec": {
      "name": "python3",
      "display_name": "Python 3"
    },
    "language_info": {
      "name": "python"
    },
    "accelerator": "GPU"
  },
  "cells": [
    {
      "cell_type": "markdown",
      "metadata": {
        "id": "view-in-github",
        "colab_type": "text"
      },
      "source": [
        "<a href=\"https://colab.research.google.com/github/Janek9527/KI_Lab_Project/blob/master/LAB_Project_v2.ipynb\" target=\"_parent\"><img src=\"https://colab.research.google.com/assets/colab-badge.svg\" alt=\"Open In Colab\"/></a>"
      ]
    },
    {
      "cell_type": "code",
      "metadata": {
        "colab": {
          "base_uri": "https://localhost:8080/"
        },
        "id": "xJk-KlolEOHU",
        "outputId": "d2f72bd2-c418-491e-958e-a456e1d4891d"
      },
      "source": [
        "!wget https://kilab.blob.core.windows.net/code/fishygame.zip\n",
        "!unzip fishygame.zip"
      ],
      "execution_count": 1,
      "outputs": [
        {
          "output_type": "stream",
          "text": [
            "--2021-06-04 11:17:59--  https://kilab.blob.core.windows.net/code/fishygame.zip\n",
            "Resolving kilab.blob.core.windows.net (kilab.blob.core.windows.net)... 20.38.118.132\n",
            "Connecting to kilab.blob.core.windows.net (kilab.blob.core.windows.net)|20.38.118.132|:443... connected.\n",
            "HTTP request sent, awaiting response... 200 OK\n",
            "Length: 495570 (484K) [application/zip]\n",
            "Saving to: ‘fishygame.zip.1’\n",
            "\n",
            "fishygame.zip.1     100%[===================>] 483.96K   409KB/s    in 1.2s    \n",
            "\n",
            "2021-06-04 11:18:02 (409 KB/s) - ‘fishygame.zip.1’ saved [495570/495570]\n",
            "\n",
            "Archive:  fishygame.zip\n",
            "replace fishygame/game_class.py? [y]es, [n]o, [A]ll, [N]one, [r]ename: A\n",
            "  inflating: fishygame/game_class.py  \n",
            "  inflating: fishygame/.gitignore    \n",
            "  inflating: fishygame/resources/fish_textures - new/idle/1.png  \n",
            "  inflating: fishygame/resources/restart_button/mouse_in/1.mdp  \n",
            "  inflating: fishygame/resources/restart_button/mouse_in/1.png  \n",
            "  inflating: fishygame/resources/restart_button/mouse_pressed/1.mdp  \n",
            " extracting: fishygame/resources/restart_button/mouse_pressed/1.png  \n",
            "  inflating: fishygame/resources/restart_button/mouse_out/1.mdp  \n",
            "  inflating: fishygame/resources/restart_button/mouse_out/1.png  \n",
            "  inflating: fishygame/resources/options_button/mouse_in/1.mdp  \n",
            "  inflating: fishygame/resources/options_button/mouse_in/1.png  \n",
            "  inflating: fishygame/resources/options_button/mouse_pressed/1.mdp  \n",
            "  inflating: fishygame/resources/options_button/mouse_pressed/1.png  \n",
            "  inflating: fishygame/resources/options_button/mouse_out/1.mdp  \n",
            "  inflating: fishygame/resources/options_button/mouse_out/1.png  \n",
            "  inflating: fishygame/resources/__init__.py  \n",
            "  inflating: fishygame/resources/back_button/mouse_in/1_old.png  \n",
            " extracting: fishygame/resources/back_button/mouse_in/1.png  \n",
            "  inflating: fishygame/resources/back_button/mouse_pressed/1_old.png  \n",
            "  inflating: fishygame/resources/back_button/mouse_pressed/1.png  \n",
            "  inflating: fishygame/resources/back_button/mouse_out/1_old.png  \n",
            " extracting: fishygame/resources/back_button/mouse_out/1.png  \n",
            "  inflating: fishygame/resources/you_lose_poster/Poster/you_lose.png  \n",
            "  inflating: fishygame/resources/background/idle/1.png  \n",
            "  inflating: fishygame/resources/continue_button/mouse_in/1.mdp  \n",
            "  inflating: fishygame/resources/continue_button/mouse_in/1.png  \n",
            "  inflating: fishygame/resources/continue_button/mouse_pressed/1.mdp  \n",
            "  inflating: fishygame/resources/continue_button/mouse_pressed/1.png  \n",
            "  inflating: fishygame/resources/continue_button/mouse_out/1.mdp  \n",
            "  inflating: fishygame/resources/continue_button/mouse_out/1.png  \n",
            "  inflating: fishygame/resources/you_win_poster/Poster/1_old.png  \n",
            "  inflating: fishygame/resources/you_win_poster/Poster/1.mdp  \n",
            "  inflating: fishygame/resources/you_win_poster/Poster/1.png  \n",
            " extracting: fishygame/resources/fish_textures - old/idle/1.png  \n",
            "  inflating: fishygame/resources/fish_textures/idle/1.png  \n",
            "  inflating: fishygame/resources/resources_path.py  \n",
            " extracting: fishygame/resources/player_textures/idle/old.png  \n",
            "  inflating: fishygame/resources/player_textures/idle/1.png  \n",
            "  inflating: fishygame/resources/high scores.png  \n",
            "  inflating: fishygame/resources/view_high_scores_button/mouse_in/1.png  \n",
            "  inflating: fishygame/resources/view_high_scores_button/mouse_pressed/1.png  \n",
            "  inflating: fishygame/resources/view_high_scores_button/mouse_out/1.png  \n",
            "  inflating: fishygame/README.md     \n",
            " extracting: fishygame/__init__.py   \n",
            "  inflating: fishygame/fish/fish_base_class.py  \n",
            "  inflating: fishygame/fish/__init__.py  \n",
            "  inflating: fishygame/fish/computer_fish.py  \n",
            "  inflating: fishygame/fish/player.py  \n",
            "  inflating: fishygame/example image.png  \n",
            "  inflating: fishygame/game_sprite_buttons/game_sprite_button_base_class.py  \n",
            " extracting: fishygame/game_sprite_buttons/__init__.py  \n",
            "  inflating: fishygame/fish_generator/fish_generator.py  \n",
            " extracting: fishygame/fish_generator/__init__.py  \n",
            "  inflating: fishygame/.vscode/settings.json  \n",
            " extracting: fishygame/constants/__init__.py  \n",
            "  inflating: fishygame/constants/constants.py  \n",
            "  inflating: fishygame/agent.py      \n",
            "  inflating: fishygame/LICENSE       \n",
            "  inflating: fishygame/controls/controls.py  \n",
            " extracting: fishygame/controls/__init__.py  \n"
          ],
          "name": "stdout"
        }
      ]
    },
    {
      "cell_type": "code",
      "metadata": {
        "colab": {
          "base_uri": "https://localhost:8080/"
        },
        "id": "PoSDarSxJEa1",
        "outputId": "4d58a366-f5bf-4e82-9122-3fb0670a57a3"
      },
      "source": [
        "!pip3 install arcade"
      ],
      "execution_count": 2,
      "outputs": [
        {
          "output_type": "stream",
          "text": [
            "Requirement already satisfied: arcade in /usr/local/lib/python3.7/dist-packages (2.5.7)\n",
            "Requirement already satisfied: pyglet<2,>=1.5.15 in /usr/local/lib/python3.7/dist-packages (from arcade) (1.5.17)\n",
            "Requirement already satisfied: pymunk~=6.0.0 in /usr/local/lib/python3.7/dist-packages (from arcade) (6.0.0)\n",
            "Requirement already satisfied: numpy==1.20.1 in /usr/local/lib/python3.7/dist-packages (from arcade) (1.20.1)\n",
            "Requirement already satisfied: pillow~=8.1 in /usr/local/lib/python3.7/dist-packages (from arcade) (8.2.0)\n",
            "Requirement already satisfied: pytiled-parser==0.9.4a3 in /usr/local/lib/python3.7/dist-packages (from arcade) (0.9.4a3)\n",
            "Requirement already satisfied: pyyaml~=5.4 in /usr/local/lib/python3.7/dist-packages (from arcade) (5.4.1)\n",
            "Requirement already satisfied: shapely==1.7.1 in /usr/local/lib/python3.7/dist-packages (from arcade) (1.7.1)\n",
            "Requirement already satisfied: cffi>1.14.0 in /usr/local/lib/python3.7/dist-packages (from pymunk~=6.0.0->arcade) (1.14.5)\n",
            "Requirement already satisfied: attrs in /usr/local/lib/python3.7/dist-packages (from pytiled-parser==0.9.4a3->arcade) (21.2.0)\n",
            "Requirement already satisfied: pycparser in /usr/local/lib/python3.7/dist-packages (from cffi>1.14.0->pymunk~=6.0.0->arcade) (2.20)\n"
          ],
          "name": "stdout"
        }
      ]
    },
    {
      "cell_type": "code",
      "metadata": {
        "colab": {
          "base_uri": "https://localhost:8080/"
        },
        "id": "nlAuijc7KFda",
        "outputId": "a221162d-af42-49bf-f28a-a4a0ca21e1f8"
      },
      "source": [
        "%%bash\n",
        "\n",
        "# install required system dependencies\n",
        "apt-get install -y xvfb x11-utils\n",
        "\n",
        "# install required python dependencies (might need to install additional gym extras depending)\n",
        "pip install pyvirtualdisplay==0.2.* PyOpenGL==3.1.* PyOpenGL-accelerate==3.1.*"
      ],
      "execution_count": 3,
      "outputs": [
        {
          "output_type": "stream",
          "text": [
            "Reading package lists...\n",
            "Building dependency tree...\n",
            "Reading state information...\n",
            "x11-utils is already the newest version (7.7+3build1).\n",
            "xvfb is already the newest version (2:1.19.6-1ubuntu4.9).\n",
            "0 upgraded, 0 newly installed, 0 to remove and 39 not upgraded.\n",
            "Requirement already satisfied: pyvirtualdisplay==0.2.* in /usr/local/lib/python3.7/dist-packages (0.2.5)\n",
            "Requirement already satisfied: PyOpenGL==3.1.* in /usr/local/lib/python3.7/dist-packages (3.1.5)\n",
            "Requirement already satisfied: PyOpenGL-accelerate==3.1.* in /usr/local/lib/python3.7/dist-packages (3.1.5)\n",
            "Requirement already satisfied: EasyProcess in /usr/local/lib/python3.7/dist-packages (from pyvirtualdisplay==0.2.*) (0.3)\n"
          ],
          "name": "stdout"
        }
      ]
    },
    {
      "cell_type": "code",
      "metadata": {
        "colab": {
          "base_uri": "https://localhost:8080/"
        },
        "id": "gHiLBCTwKc0C",
        "outputId": "2cccf125-aedd-4840-96b4-1b55e4850f96"
      },
      "source": [
        "from pyvirtualdisplay import Display\n",
        "display = Display(visible=0, size=(960, 540))\n",
        "display.start()"
      ],
      "execution_count": 4,
      "outputs": [
        {
          "output_type": "execute_result",
          "data": {
            "text/plain": [
              "<Display cmd_param=['Xvfb', '-br', '-nolisten', 'tcp', '-screen', '0', '960x540x24', ':1005'] cmd=['Xvfb', '-br', '-nolisten', 'tcp', '-screen', '0', '960x540x24', ':1005'] oserror=None return_code=None stdout=\"None\" stderr=\"None\" timeout_happened=False>"
            ]
          },
          "metadata": {
            "tags": []
          },
          "execution_count": 4
        }
      ]
    },
    {
      "cell_type": "code",
      "metadata": {
        "id": "d8rnA5cvIVXS"
      },
      "source": [
        "import torch\n",
        "import torch.nn as nn\n",
        "import torch.nn.functional as F\n",
        "import torch.optim as optim\n",
        "import numpy as np\n",
        "from collections import namedtuple, deque\n",
        "import math\n",
        "import random\n",
        "import numpy as np\n",
        "import matplotlib\n",
        "import matplotlib.pyplot as plt\n",
        "from collections import namedtuple, deque\n",
        "from itertools import count\n",
        "from PIL import Image"
      ],
      "execution_count": 5,
      "outputs": []
    },
    {
      "cell_type": "code",
      "metadata": {
        "id": "5l7qWdJwOD8Z"
      },
      "source": [
        "class Net(torch.nn.Module):\n",
        "    def __init__(self, D_in, H, D_out):\n",
        "        super(Net, self).__init__()\n",
        "        self.flatten1 = torch.nn.Flatten()\n",
        "        self.linear1 = torch.nn.Linear(D_in, H)\n",
        "        self.linear2 = torch.nn.Linear(H, D_out)\n",
        "\n",
        "    def forward(self, x):\n",
        "        x = self.flatten1(x)\n",
        "        h_relu = F.relu(self.linear1(x))\n",
        "        return self.linear2(h_relu)"
      ],
      "execution_count": 6,
      "outputs": []
    },
    {
      "cell_type": "code",
      "metadata": {
        "id": "xTPMxGOPe68a"
      },
      "source": [
        "Transition = namedtuple('Transition',\n",
        "                        ('state', 'action', 'next_state', 'reward'))\n",
        "\n",
        "\n",
        "class ReplayMemory(object):\n",
        "\n",
        "    def __init__(self, capacity):\n",
        "        self.memory = deque([],maxlen=capacity)\n",
        "\n",
        "    def push(self, *args):\n",
        "        \"\"\"Save a transition\"\"\"\n",
        "        self.memory.append(Transition(*args))\n",
        "\n",
        "    def sample(self, batch_size):\n",
        "        return random.sample(self.memory, batch_size)\n",
        "\n",
        "    def __len__(self):\n",
        "        return len(self.memory)"
      ],
      "execution_count": 7,
      "outputs": []
    },
    {
      "cell_type": "code",
      "metadata": {
        "id": "VNcx25GpO6Og"
      },
      "source": [
        "import sys\n",
        "sys.path.append(\"fishygame\")"
      ],
      "execution_count": 8,
      "outputs": []
    },
    {
      "cell_type": "code",
      "metadata": {
        "id": "yJHobLnNP0E5"
      },
      "source": [
        "from fishygame import game_class\n",
        "from game_class import Game"
      ],
      "execution_count": 9,
      "outputs": []
    },
    {
      "cell_type": "code",
      "metadata": {
        "id": "_0x_d2tOdh6B"
      },
      "source": [
        "device = torch.device(\"cuda\" if torch.cuda.is_available() else \"cpu\")"
      ],
      "execution_count": 10,
      "outputs": []
    },
    {
      "cell_type": "code",
      "metadata": {
        "id": "mhAXqzgrZRc1"
      },
      "source": [
        "state_dim = 15 * 5\n",
        "hidden_dim = 200\n",
        "action_count = 4\n",
        "\n",
        "policy_net = Net(state_dim, hidden_dim, action_count).to(device)\n",
        "target_net = Net(state_dim, hidden_dim, action_count).to(device)\n",
        "\n",
        "target_net.load_state_dict(policy_net.state_dict())\n",
        "target_net.eval()\n",
        "\n",
        "optimizer = optim.RMSprop(policy_net.parameters())\n",
        "memory = ReplayMemory(10000)\n",
        "\n",
        "activation = nn.Softmax(dim=1)"
      ],
      "execution_count": null,
      "outputs": []
    },
    {
      "cell_type": "code",
      "metadata": {
        "id": "RabSCMDvdxbR"
      },
      "source": [
        "steps_done = 0\n",
        "\n",
        "BATCH_SIZE = 128\n",
        "GAMMA = 0.999\n",
        "EPS_START = 0.9\n",
        "EPS_END = 0.05\n",
        "EPS_DECAY = 200\n",
        "TARGET_UPDATE = 10\n",
        "\n",
        "def select_action(state):\n",
        "    global steps_done\n",
        "    sample = random.random()\n",
        "    eps_threshold = EPS_END + (EPS_START - EPS_END) * \\\n",
        "        math.exp(-1. * steps_done / EPS_DECAY)\n",
        "    steps_done += 1\n",
        "    if sample > eps_threshold:\n",
        "        with torch.no_grad():\n",
        "            # t.max(1) will return largest column value of each row.\n",
        "            # second column on max result is index of where max element was\n",
        "            # found, so we pick action with the larger expected reward.\n",
        "            return policy_net(state)#.max(1)[1].view(1, 1)\n",
        "    else:\n",
        "        return torch.tensor([[random.randrange(n_actions)]], device=device, dtype=torch.long)"
      ],
      "execution_count": null,
      "outputs": []
    },
    {
      "cell_type": "code",
      "metadata": {
        "id": "l2itODpXhVHV"
      },
      "source": [
        "def optimize_model():\n",
        "    if len(memory) < BATCH_SIZE:\n",
        "        return\n",
        "    transitions = memory.sample(BATCH_SIZE)\n",
        "    # Transpose the batch (see https://stackoverflow.com/a/19343/3343043 for\n",
        "    # detailed explanation). This converts batch-array of Transitions\n",
        "    # to Transition of batch-arrays.\n",
        "    batch = Transition(*zip(*transitions))\n",
        "\n",
        "    # Compute a mask of non-final states and concatenate the batch elements\n",
        "    # (a final state would've been the one after which simulation ended)\n",
        "    non_final_mask = torch.tensor(tuple(map(lambda s: s is not None,\n",
        "                                          batch.next_state)), device=device, dtype=torch.bool)\n",
        "    non_final_next_states = torch.cat([s for s in batch.next_state\n",
        "                                                if s is not None])\n",
        "    state_batch = torch.cat(batch.state)\n",
        "    action_batch = torch.cat(batch.action)\n",
        "    reward_batch = torch.cat(batch.reward)\n",
        "\n",
        "    # Compute Q(s_t, a) - the model computes Q(s_t), then we select the\n",
        "    # columns of actions taken. These are the actions which would've been taken\n",
        "    # for each batch state according to policy_net\n",
        "    state_action_values = policy_net(state_batch).gather(1, action_batch)\n",
        "\n",
        "    # Compute V(s_{t+1}) for all next states.\n",
        "    # Expected values of actions for non_final_next_states are computed based\n",
        "    # on the \"older\" target_net; selecting their best reward with max(1)[0].\n",
        "    # This is merged based on the mask, such that we'll have either the expected\n",
        "    # state value or 0 in case the state was final.\n",
        "    next_state_values = torch.zeros(BATCH_SIZE, device=device)\n",
        "    next_state_values[non_final_mask] = target_net(non_final_next_states).max(1)[0].detach()\n",
        "    # Compute the expected Q values\n",
        "    expected_state_action_values = (next_state_values * GAMMA) + reward_batch\n",
        "\n",
        "    # Compute Huber loss\n",
        "    criterion = nn.SmoothL1Loss()\n",
        "    loss = criterion(state_action_values, expected_state_action_values.unsqueeze(1))\n",
        "\n",
        "    # Optimize the model\n",
        "    optimizer.zero_grad()\n",
        "    loss.backward()\n",
        "    for param in policy_net.parameters():\n",
        "        param.grad.data.clamp_(-1, 1)\n",
        "    optimizer.step()"
      ],
      "execution_count": null,
      "outputs": []
    },
    {
      "cell_type": "code",
      "metadata": {
        "id": "0VWNbEfEhfpV"
      },
      "source": [
        "initialState = torch.tensor([[0.0e+00, 0.0e+00, 4.8e+02, 2.7e+02, 3.0e-01],        \n",
        "       [0.0e+00, 0.0e+00, 0.0e+00, 0.0e+00, 0.0e+00],\n",
        "       [0.0e+00, 0.0e+00, 0.0e+00, 0.0e+00, 0.0e+00],\n",
        "       [0.0e+00, 0.0e+00, 0.0e+00, 0.0e+00, 0.0e+00],\n",
        "       [0.0e+00, 0.0e+00, 0.0e+00, 0.0e+00, 0.0e+00],\n",
        "       [0.0e+00, 0.0e+00, 0.0e+00, 0.0e+00, 0.0e+00],\n",
        "       [0.0e+00, 0.0e+00, 0.0e+00, 0.0e+00, 0.0e+00],\n",
        "       [0.0e+00, 0.0e+00, 0.0e+00, 0.0e+00, 0.0e+00],\n",
        "       [0.0e+00, 0.0e+00, 0.0e+00, 0.0e+00, 0.0e+00],\n",
        "       [0.0e+00, 0.0e+00, 0.0e+00, 0.0e+00, 0.0e+00],\n",
        "       [0.0e+00, 0.0e+00, 0.0e+00, 0.0e+00, 0.0e+00],\n",
        "       [0.0e+00, 0.0e+00, 0.0e+00, 0.0e+00, 0.0e+00],\n",
        "       [0.0e+00, 0.0e+00, 0.0e+00, 0.0e+00, 0.0e+00],\n",
        "       [0.0e+00, 0.0e+00, 0.0e+00, 0.0e+00, 0.0e+00],\n",
        "       [0.0e+00, 0.0e+00, 0.0e+00, 0.0e+00, 0.0e+00]])\n",
        "\n",
        "num_episodes = 50\n",
        "n_actions = action_count\n",
        "for i_episode in range(num_episodes):\n",
        "    # Initialize the environment and state\n",
        "    game = Game()\n",
        "    state = initialState.to(device)\n",
        "    for t in count():\n",
        "        # Select and perform an action\n",
        "        print(state)\n",
        "        action = select_action(state)\n",
        "        state_next, reward, done = game.on_update(action.item())\n",
        "        reward = torch.tensor([reward], device=device)\n",
        "\n",
        "        # Observe new state\n",
        "        if not done:\n",
        "            next_state = state_next\n",
        "        else:\n",
        "            next_state = None\n",
        "\n",
        "        # Store the transition in memory\n",
        "        memory.push(state, action, next_state, reward)\n",
        "\n",
        "        # Move to the next state\n",
        "        state = next_state\n",
        "\n",
        "        # Perform one step of the optimization (on the policy network)\n",
        "        optimize_model()\n",
        "        if done:\n",
        "            episode_durations.append(t + 1)\n",
        "            plot_durations()\n",
        "            break\n",
        "    # Update the target network, copying all weights and biases in DQN\n",
        "    if i_episode % TARGET_UPDATE == 0:\n",
        "        target_net.load_state_dict(policy_net.state_dict())\n",
        "\n",
        "print('Complete')\n",
        "env.render()\n",
        "env.close()\n",
        "plt.ioff()\n",
        "plt.show()"
      ],
      "execution_count": null,
      "outputs": []
    }
  ]
}