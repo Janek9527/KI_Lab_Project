{
  "nbformat": 4,
  "nbformat_minor": 0,
  "metadata": {
    "colab": {
      "name": "KI_Lab_Conv.ipynb",
      "provenance": [],
      "collapsed_sections": [],
      "authorship_tag": "ABX9TyNnmwZFnY5scSJFWX2+PiVC",
      "include_colab_link": true
    },
    "kernelspec": {
      "name": "python3",
      "display_name": "Python 3"
    },
    "language_info": {
      "name": "python"
    }
  },
  "cells": [
    {
      "cell_type": "markdown",
      "metadata": {
        "id": "view-in-github",
        "colab_type": "text"
      },
      "source": [
        "<a href=\"https://colab.research.google.com/github/Janek9527/KI_Lab_Project/blob/master/KI_Lab_Conv.ipynb\" target=\"_parent\"><img src=\"https://colab.research.google.com/assets/colab-badge.svg\" alt=\"Open In Colab\"/></a>"
      ]
    },
    {
      "cell_type": "code",
      "metadata": {
        "id": "eNl2dZdqj2Nr",
        "colab": {
          "base_uri": "https://localhost:8080/"
        },
        "outputId": "4ec60f19-a263-4e76-fae4-af346362bbfe"
      },
      "source": [
        "!unzip fishygame_updated.zip"
      ],
      "execution_count": 1,
      "outputs": [
        {
          "output_type": "stream",
          "text": [
            "Archive:  fishygame_updated.zip\n",
            "replace fishygame/__init__.py? [y]es, [n]o, [A]ll, [N]one, [r]ename: N\n"
          ],
          "name": "stdout"
        }
      ]
    },
    {
      "cell_type": "code",
      "metadata": {
        "colab": {
          "base_uri": "https://localhost:8080/"
        },
        "id": "XgI4TXPBSK_z",
        "outputId": "6d258d0c-ac40-40ad-861c-e55294acc6a3"
      },
      "source": [
        "!pip3 install arcade\n",
        "!pip3 install pyvirtualdisplay"
      ],
      "execution_count": 2,
      "outputs": [
        {
          "output_type": "stream",
          "text": [
            "Requirement already satisfied: arcade in /usr/local/lib/python3.7/dist-packages (2.5.7)\n",
            "Requirement already satisfied: shapely==1.7.1 in /usr/local/lib/python3.7/dist-packages (from arcade) (1.7.1)\n",
            "Requirement already satisfied: pymunk~=6.0.0 in /usr/local/lib/python3.7/dist-packages (from arcade) (6.0.0)\n",
            "Requirement already satisfied: pillow~=8.1 in /usr/local/lib/python3.7/dist-packages (from arcade) (8.2.0)\n",
            "Requirement already satisfied: pyyaml~=5.4 in /usr/local/lib/python3.7/dist-packages (from arcade) (5.4.1)\n",
            "Requirement already satisfied: numpy==1.20.1 in /usr/local/lib/python3.7/dist-packages (from arcade) (1.20.1)\n",
            "Requirement already satisfied: pyglet<2,>=1.5.15 in /usr/local/lib/python3.7/dist-packages (from arcade) (1.5.18)\n",
            "Requirement already satisfied: pytiled-parser==0.9.4a3 in /usr/local/lib/python3.7/dist-packages (from arcade) (0.9.4a3)\n",
            "Requirement already satisfied: cffi>1.14.0 in /usr/local/lib/python3.7/dist-packages (from pymunk~=6.0.0->arcade) (1.14.5)\n",
            "Requirement already satisfied: attrs in /usr/local/lib/python3.7/dist-packages (from pytiled-parser==0.9.4a3->arcade) (21.2.0)\n",
            "Requirement already satisfied: pycparser in /usr/local/lib/python3.7/dist-packages (from cffi>1.14.0->pymunk~=6.0.0->arcade) (2.20)\n",
            "Requirement already satisfied: pyvirtualdisplay in /usr/local/lib/python3.7/dist-packages (2.2)\n",
            "Requirement already satisfied: EasyProcess in /usr/local/lib/python3.7/dist-packages (from pyvirtualdisplay) (0.3)\n"
          ],
          "name": "stdout"
        }
      ]
    },
    {
      "cell_type": "code",
      "metadata": {
        "colab": {
          "base_uri": "https://localhost:8080/"
        },
        "id": "YVpRkK9zSice",
        "outputId": "7342efc9-5abc-458a-f69f-e5325f68691c"
      },
      "source": [
        "%%bash\n",
        "\n",
        "# install required system dependencies\n",
        "apt-get install -y xvfb x11-utils\n",
        "\n",
        "# install required python dependencies (might need to install additional gym extras depending)\n",
        "pip install pyvirtualdisplay==0.2.* PyOpenGL==3.1.* PyOpenGL-accelerate==3.1.*"
      ],
      "execution_count": 3,
      "outputs": [
        {
          "output_type": "stream",
          "text": [
            "Reading package lists...\n",
            "Building dependency tree...\n",
            "Reading state information...\n",
            "The following additional packages will be installed:\n",
            "  libxxf86dga1\n",
            "Suggested packages:\n",
            "  mesa-utils\n",
            "The following NEW packages will be installed:\n",
            "  libxxf86dga1 x11-utils xvfb\n",
            "0 upgraded, 3 newly installed, 0 to remove and 39 not upgraded.\n",
            "Need to get 994 kB of archives.\n",
            "After this operation, 2,981 kB of additional disk space will be used.\n",
            "Get:1 http://archive.ubuntu.com/ubuntu bionic/main amd64 libxxf86dga1 amd64 2:1.1.4-1 [13.7 kB]\n",
            "Get:2 http://archive.ubuntu.com/ubuntu bionic/main amd64 x11-utils amd64 7.7+3build1 [196 kB]\n",
            "Get:3 http://archive.ubuntu.com/ubuntu bionic-updates/universe amd64 xvfb amd64 2:1.19.6-1ubuntu4.9 [784 kB]\n",
            "Fetched 994 kB in 1s (823 kB/s)\n",
            "Selecting previously unselected package libxxf86dga1:amd64.\r\n",
            "(Reading database ... \r(Reading database ... 5%\r(Reading database ... 10%\r(Reading database ... 15%\r(Reading database ... 20%\r(Reading database ... 25%\r(Reading database ... 30%\r(Reading database ... 35%\r(Reading database ... 40%\r(Reading database ... 45%\r(Reading database ... 50%\r(Reading database ... 55%\r(Reading database ... 60%\r(Reading database ... 65%\r(Reading database ... 70%\r(Reading database ... 75%\r(Reading database ... 80%\r(Reading database ... 85%\r(Reading database ... 90%\r(Reading database ... 95%\r(Reading database ... 100%\r(Reading database ... 160772 files and directories currently installed.)\r\n",
            "Preparing to unpack .../libxxf86dga1_2%3a1.1.4-1_amd64.deb ...\r\n",
            "Unpacking libxxf86dga1:amd64 (2:1.1.4-1) ...\r\n",
            "Selecting previously unselected package x11-utils.\r\n",
            "Preparing to unpack .../x11-utils_7.7+3build1_amd64.deb ...\r\n",
            "Unpacking x11-utils (7.7+3build1) ...\r\n",
            "Selecting previously unselected package xvfb.\r\n",
            "Preparing to unpack .../xvfb_2%3a1.19.6-1ubuntu4.9_amd64.deb ...\r\n",
            "Unpacking xvfb (2:1.19.6-1ubuntu4.9) ...\r\n",
            "Setting up xvfb (2:1.19.6-1ubuntu4.9) ...\r\n",
            "Setting up libxxf86dga1:amd64 (2:1.1.4-1) ...\r\n",
            "Setting up x11-utils (7.7+3build1) ...\r\n",
            "Processing triggers for man-db (2.8.3-2ubuntu0.1) ...\r\n",
            "Processing triggers for libc-bin (2.27-3ubuntu1.2) ...\r\n",
            "/sbin/ldconfig.real: /usr/local/lib/python3.7/dist-packages/ideep4py/lib/libmkldnn.so.0 is not a symbolic link\r\n",
            "\r\n",
            "Collecting pyvirtualdisplay==0.2.*\n",
            "  Downloading https://files.pythonhosted.org/packages/69/ec/8221a07850d69fa3c57c02e526edd23d18c7c05d58ed103e3b19172757c1/PyVirtualDisplay-0.2.5-py2.py3-none-any.whl\n",
            "Requirement already satisfied: PyOpenGL==3.1.* in /usr/local/lib/python3.7/dist-packages (3.1.5)\n",
            "Collecting PyOpenGL-accelerate==3.1.*\n",
            "  Downloading https://files.pythonhosted.org/packages/a2/3c/f42a62b7784c04b20f8b88d6c8ad04f4f20b0767b721102418aad94d8389/PyOpenGL-accelerate-3.1.5.tar.gz (538kB)\n",
            "Requirement already satisfied: EasyProcess in /usr/local/lib/python3.7/dist-packages (from pyvirtualdisplay==0.2.*) (0.3)\n",
            "Building wheels for collected packages: PyOpenGL-accelerate\n",
            "  Building wheel for PyOpenGL-accelerate (setup.py): started\n",
            "  Building wheel for PyOpenGL-accelerate (setup.py): finished with status 'done'\n",
            "  Created wheel for PyOpenGL-accelerate: filename=PyOpenGL_accelerate-3.1.5-cp37-cp37m-linux_x86_64.whl size=1599196 sha256=e06d64a2086e346a913d6d197668b072cbe4e6ee2f12bef01fe4324ea8801154\n",
            "  Stored in directory: /root/.cache/pip/wheels/bd/21/77/99670ceca25fddb3c2b60a7ae44644b8253d1006e8ec417bcc\n",
            "Successfully built PyOpenGL-accelerate\n",
            "Installing collected packages: pyvirtualdisplay, PyOpenGL-accelerate\n",
            "  Found existing installation: PyVirtualDisplay 2.2\n",
            "    Uninstalling PyVirtualDisplay-2.2:\n",
            "      Successfully uninstalled PyVirtualDisplay-2.2\n",
            "Successfully installed PyOpenGL-accelerate-3.1.5 pyvirtualdisplay-0.2.5\n"
          ],
          "name": "stdout"
        }
      ]
    },
    {
      "cell_type": "code",
      "metadata": {
        "colab": {
          "base_uri": "https://localhost:8080/"
        },
        "id": "DZ2FVQSKSTlm",
        "outputId": "0a9298e8-1ad8-4d34-83a8-f249116efb57"
      },
      "source": [
        "from pyvirtualdisplay import Display\n",
        "display = Display(visible=0, size=(960, 540))\n",
        "display.start()"
      ],
      "execution_count": 4,
      "outputs": [
        {
          "output_type": "execute_result",
          "data": {
            "text/plain": [
              "<Display cmd_param=['Xvfb', '-br', '-nolisten', 'tcp', '-screen', '0', '960x540x24', ':1001'] cmd=['Xvfb', '-br', '-nolisten', 'tcp', '-screen', '0', '960x540x24', ':1001'] oserror=None return_code=None stdout=\"None\" stderr=\"None\" timeout_happened=False>"
            ]
          },
          "metadata": {
            "tags": []
          },
          "execution_count": 4
        }
      ]
    },
    {
      "cell_type": "code",
      "metadata": {
        "id": "HwgVeCcMSBJe"
      },
      "source": [
        "import sys\n",
        "sys.path.append(\"fishygame\")\n",
        "from fishygame import game_class\n",
        "from game_class import Game"
      ],
      "execution_count": 5,
      "outputs": []
    },
    {
      "cell_type": "code",
      "metadata": {
        "colab": {
          "base_uri": "https://localhost:8080/",
          "height": 265
        },
        "id": "i9snhgpSPeG5",
        "outputId": "6874c2a3-f8e7-42c2-8e34-19a2693c5298"
      },
      "source": [
        "import numpy as np\n",
        "import torch\n",
        "import torch.nn as nn\n",
        "import torch.nn.functional as F\n",
        "from torch import optim\n",
        "import matplotlib.pyplot as plt\n",
        "import gym\n",
        "import math\n",
        "\n",
        "\n",
        "\n",
        "#hyper parameters\n",
        "EPS_START = 0.9\n",
        "EPS_END = 0.1\n",
        "EPS_DECAY = 2200000\n",
        "GAMMA = 0.96\n",
        "LR = 0.0005\n",
        "MEMORY_CAPACITY = 40000\n",
        "Q_NETWORK_ITERATION = 80000\n",
        "BATCH_SIZE = 64\n",
        "\n",
        "EPISODES = 12500\n",
        "NUM_STATES = 24\n",
        "NUM_ACTIONS = 4\n",
        "\n",
        "NONE_TENSOR = torch.tensor([np.nan for i in range(NUM_STATES)])\n",
        "\n",
        "class Net(torch.nn.Module):\n",
        "    def __init__(self):\n",
        "        super(Net, self).__init__()\n",
        "        self.conv1 = torch.nn.Conv2d(3, 16, 11, 2)\n",
        "        self.batch1 = torch.nn.BatchNorm2d(16)\n",
        "        self.maxpool1 = torch.nn.MaxPool2d(2, 2)\n",
        "        self.conv2 = torch.nn.Conv2d(16, 32, 7, 2)\n",
        "        self.batch2 = torch.nn.BatchNorm2d(32)\n",
        "        self.maxpool2 = torch.nn.MaxPool2d(2, 2) \n",
        "        self.conv3 = torch.nn.Conv2d(32, 64, 3, 2)\n",
        "        self.batch3 = torch.nn.BatchNorm2d(64)\n",
        "        #self.maxpool3 = torch.nn.MaxPool2d(2, 2) \n",
        "        self.flatten = torch.nn.Flatten()\n",
        "        self.linear1 = torch.nn.Linear(9792, 8192)\n",
        "        self.linear2 = torch.nn.Linear(8192, 4096)\n",
        "        self.linear3 = torch.nn.Linear(4096, 4096)\n",
        "        self.linear4 = torch.nn.Linear(4096, 4)\n",
        "\n",
        "    def forward(self, x):\n",
        "        #for e in x:\n",
        "        if x.shape[0] == 1:\n",
        "            x = torch.reshape(x, (1, 3, 337, 600))\n",
        "        else:\n",
        "            x = torch.reshape(x, (32, 3, 337, 600))\n",
        "        x = F.relu(self.batch1(self.conv1(x)))\n",
        "        #print(x.shape)\n",
        "        x = self.maxpool1(x)\n",
        "        #print(x.shape)\n",
        "        x = F.relu(self.batch2(self.conv2(x)))\n",
        "        #print(x.shape)\n",
        "        x = self.maxpool2(x)\n",
        "        #print(x.shape)\n",
        "        x = F.relu(self.batch3(self.conv3(x)))\n",
        "        #x = self.maxpool3(x)\n",
        "        x = self.linear1(self.flatten(x))\n",
        "        x = F.relu(x)\n",
        "        x = self.linear2(x)\n",
        "        x = F.relu(x)\n",
        "        x = self.linear3(x)\n",
        "        x = F.relu(x)\n",
        "        x = self.linear4(x)\n",
        "        return x\n",
        "\n",
        "class Dqn():\n",
        "    def __init__(self):\n",
        "        self.eval_net, self.target_net = Net(), Net()\n",
        "        self.memory = np.zeros((MEMORY_CAPACITY, NUM_STATES *2 +2))\n",
        "        # state, action ,reward and next state\n",
        "        self.memory_counter = 0\n",
        "        self.learn_counter = 0\n",
        "        self.optimizer = optim.Adam(self.eval_net.parameters(), LR)\n",
        "        self.loss = nn.MSELoss()\n",
        "\n",
        "        self.fig, self.ax = plt.subplots()\n",
        "\n",
        "    def store_trans(self, state, action, reward, next_state):\n",
        "        if self.memory_counter % 500 ==0:\n",
        "            print(\"The experience pool collects {} time experience\".format(self.memory_counter))\n",
        "        index = self.memory_counter % MEMORY_CAPACITY\n",
        "        #print(state)\n",
        "        #print(action)\n",
        "        #print(reward)\n",
        "        #print(next_state)\n",
        "        trans = np.hstack((state, [action], [reward], next_state))\n",
        "        #print(trans)\n",
        "        self.memory[index,] = trans\n",
        "        self.memory_counter += 1\n",
        "\n",
        "    def choose_action(self, state):\n",
        "        # notation that the function return the action's index nor the real action\n",
        "        # EPSILON\n",
        "        state = torch.unsqueeze(torch.FloatTensor(state) ,0)\n",
        "        #print(state)\n",
        "        eps_threshold = EPS_END + (EPS_START - EPS_END) * math.exp(-1. * self.learn_counter / EPS_DECAY)\n",
        "        if np.random.randn() > eps_threshold:\n",
        "            action_value = self.eval_net.forward(state)\n",
        "            action = torch.max(action_value, 1)[1].data.numpy() # get action whose q is max\n",
        "            action = action[0] #get the action index\n",
        "        else:\n",
        "            action = np.random.randint(0,NUM_ACTIONS)\n",
        "        #print(f\"Chosen action: {action}\")\n",
        "        return action\n",
        "\n",
        "    def plot(self, ax, x):\n",
        "        ax.cla()\n",
        "        ax.set_xlabel(\"episode\")\n",
        "        ax.set_ylabel(\"total reward\")\n",
        "        ax.plot(x, 'b-')\n",
        "        plt.pause(0.000000000000001)\n",
        "\n",
        "    def learn(self):\n",
        "        # learn 100 times then the target network update\n",
        "        if self.learn_counter % Q_NETWORK_ITERATION ==0:\n",
        "            self.target_net.load_state_dict(self.eval_net.state_dict())\n",
        "\n",
        "        if self.learn_counter % 10000 == 0:\n",
        "            torch.save(self.target_net, f\"./modeldist{self.learn_counter/10000}\")\n",
        "        self.learn_counter+=1\n",
        "\n",
        "        sample_index = np.random.choice(MEMORY_CAPACITY, BATCH_SIZE)\n",
        "        batch_memory = self.memory[sample_index, :]\n",
        "        batch_next_state = torch.FloatTensor(batch_memory[:, -NUM_STATES:])\n",
        "        non_final_mask = torch.tensor(tuple(map(lambda s: not torch.all(s.isnan()), batch_next_state)))\n",
        "        non_final_next_states = torch.cat([s.unsqueeze(0) for s in batch_next_state if not torch.all(s.isnan())])\n",
        "        #print(non_final_next_states)\n",
        "        batch_state = torch.FloatTensor(batch_memory[:, :NUM_STATES])\n",
        "        #note that the action must be a int\n",
        "        batch_action = torch.LongTensor(batch_memory[:, NUM_STATES:NUM_STATES+1].astype(int))\n",
        "        batch_reward = torch.FloatTensor(batch_memory[:, NUM_STATES+1: NUM_STATES+2])\n",
        "        \n",
        "        next_state_values = torch.zeros(BATCH_SIZE)\n",
        "        next_state_values[non_final_mask] = self.target_net(non_final_next_states).max(1)[0].detach()\n",
        "\n",
        "        q_eval = self.eval_net(batch_state).gather(1, batch_action)\n",
        "        #q_next = self.target_net(batch_next_state).detach()\n",
        "        #print(next_state_values)\n",
        "        q_target = batch_reward + GAMMA*next_state_values.view(BATCH_SIZE, 1)\n",
        "\n",
        "        loss = self.loss(q_eval, q_target)\n",
        "        self.optimizer.zero_grad()\n",
        "        loss.backward()\n",
        "        self.optimizer.step()\n",
        "\n",
        "\n",
        "\n",
        "def main():\n",
        "    initialState = [[0.0, 0.0, 0.0, 0.0, 0.02564103,  0.0,  0.0, 0.0],\n",
        " [0.0,  0.0, 0.0, 0.0,  0.0, 0.0, 0.0,  0.0],\n",
        " [0.0,  0.0, 0.0, 0.0,  0.0, 0.0, 0.0,  0.0]]\n",
        "    net = Dqn()\n",
        "    print(\"The DQN is collecting experience...\")\n",
        "    step_counter_list = []\n",
        "    mean_rewards = []\n",
        "    for episode in range(EPISODES):\n",
        "        game = Game()\n",
        "        state, _, _ = game.on_update(0)\n",
        "        step_counter = 0\n",
        "        rewards = []\n",
        "        while True:\n",
        "            step_counter +=1\n",
        "            action = net.choose_action(state)\n",
        "            next_state, reward, done = game.on_update(action)\n",
        "            next_state = torch.flatten(torch.tensor(next_state).float())\n",
        "            if done:\n",
        "              next_state = NONE_TENSOR\n",
        "            #reward = reward * 100 if reward >0 else reward * 5\n",
        "            net.store_trans(state, action, reward, next_state)\n",
        "            rewards.append(reward)\n",
        "            if net.memory_counter >= MEMORY_CAPACITY:\n",
        "                net.learn()\n",
        "                if done:\n",
        "                    print(\"episode {}, the reward is {}\".format(episode, round(reward, 3)))\n",
        "            if done:\n",
        "                step_counter_list.append(step_counter)\n",
        "                net.plot(net.ax, step_counter_list)\n",
        "                break\n",
        "\n",
        "            state = next_state\n",
        "        mean_rewards.append(sum(rewards)/len(rewards))\n",
        "        if episode % 10 == 0:\n",
        "            running_avg = np.convolve(mean_rewards, np.ones(math.ceil(len(mean_rewards)/4))/math.ceil(len(mean_rewards)/4), mode='valid')\n",
        "            #plt.plot(mean_rewards)\n",
        "            np.savetxt(\"mean_rewards.csv\", running_avg, delimiter=\",\")\n",
        "            plt.plot(running_avg)\n",
        "if __name__ == '__main__':\n",
        "    main()"
      ],
      "execution_count": 9,
      "outputs": [
        {
          "output_type": "display_data",
          "data": {
            "image/png": "[encoded data removed]",
            "text/plain": [
              "<Figure size 432x288 with 1 Axes>"
            ]
          },
          "metadata": {
            "tags": [],
            "needs_background": "light"
          }
        }
      ]
    },
    {
      "cell_type": "code",
      "metadata": {
        "id": "-cRWtgSJZZj6"
      },
      "source": [
        "!rm fishygame.zip\n",
        "!zip -r /content/fishygame.zip . -i /fishygame/*\n"
      ],
      "execution_count": null,
      "outputs": []
    }
  ]
}